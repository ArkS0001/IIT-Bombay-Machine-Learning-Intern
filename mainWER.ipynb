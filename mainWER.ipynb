{
 "cells": [
  {
   "cell_type": "code",
   "execution_count": 4,
   "metadata": {},
   "outputs": [
    {
     "name": "stdout",
     "output_type": "stream",
     "text": [
      "Defaulting to user installation because normal site-packages is not writeable\n",
      "Requirement already satisfied: jiwer in c:\\users\\lenovo\\appdata\\roaming\\python\\python310\\site-packages (3.0.3)\n",
      "Requirement already satisfied: torchaudio in c:\\users\\lenovo\\appdata\\roaming\\python\\python310\\site-packages (2.2.2)\n",
      "Requirement already satisfied: click<9.0.0,>=8.1.3 in c:\\users\\lenovo\\appdata\\roaming\\python\\python310\\site-packages (from jiwer) (8.1.3)\n",
      "Requirement already satisfied: rapidfuzz<4,>=3 in c:\\users\\lenovo\\appdata\\roaming\\python\\python310\\site-packages (from jiwer) (3.8.1)\n",
      "Requirement already satisfied: torch==2.2.2 in c:\\users\\lenovo\\appdata\\roaming\\python\\python310\\site-packages (from torchaudio) (2.2.2)\n",
      "Requirement already satisfied: filelock in c:\\users\\lenovo\\appdata\\roaming\\python\\python310\\site-packages (from torch==2.2.2->torchaudio) (3.12.3)\n",
      "Requirement already satisfied: typing-extensions>=4.8.0 in c:\\users\\lenovo\\appdata\\roaming\\python\\python310\\site-packages (from torch==2.2.2->torchaudio) (4.11.0)\n",
      "Requirement already satisfied: sympy in c:\\users\\lenovo\\appdata\\roaming\\python\\python310\\site-packages (from torch==2.2.2->torchaudio) (1.12)\n",
      "Requirement already satisfied: networkx in c:\\users\\lenovo\\appdata\\roaming\\python\\python310\\site-packages (from torch==2.2.2->torchaudio) (2.8.7)\n",
      "Requirement already satisfied: jinja2 in c:\\users\\lenovo\\appdata\\roaming\\python\\python310\\site-packages (from torch==2.2.2->torchaudio) (3.1.2)\n",
      "Requirement already satisfied: fsspec in c:\\users\\lenovo\\appdata\\roaming\\python\\python310\\site-packages (from torch==2.2.2->torchaudio) (2022.8.2)\n",
      "Requirement already satisfied: colorama in c:\\users\\lenovo\\appdata\\roaming\\python\\python310\\site-packages (from click<9.0.0,>=8.1.3->jiwer) (0.4.6)\n",
      "Requirement already satisfied: MarkupSafe>=2.0 in c:\\users\\lenovo\\appdata\\roaming\\python\\python310\\site-packages (from jinja2->torch==2.2.2->torchaudio) (2.1.1)\n",
      "Requirement already satisfied: mpmath>=0.19 in c:\\users\\lenovo\\appdata\\roaming\\python\\python310\\site-packages (from sympy->torch==2.2.2->torchaudio) (1.3.0)\n",
      "Note: you may need to restart the kernel to use updated packages.\n"
     ]
    }
   ],
   "source": [
    "pip install jiwer torchaudio"
   ]
  },
  {
   "cell_type": "code",
   "execution_count": 5,
   "metadata": {},
   "outputs": [
    {
     "name": "stdout",
     "output_type": "stream",
     "text": [
      "Defaulting to user installation because normal site-packages is not writeable\n",
      "Collecting openai-whisper\n",
      "  Downloading openai-whisper-20231117.tar.gz (798 kB)\n",
      "     ------------------------------------ 798.6/798.6 kB 431.3 kB/s eta 0:00:00\n",
      "  Installing build dependencies: started\n",
      "  Installing build dependencies: finished with status 'done'\n",
      "  Getting requirements to build wheel: started\n",
      "  Getting requirements to build wheel: finished with status 'done'\n",
      "  Installing backend dependencies: started\n",
      "  Installing backend dependencies: finished with status 'done'\n",
      "  Preparing metadata (pyproject.toml): started\n",
      "  Preparing metadata (pyproject.toml): finished with status 'done'\n",
      "Collecting numba (from openai-whisper)\n",
      "  Downloading numba-0.59.1-cp310-cp310-win_amd64.whl.metadata (2.8 kB)\n",
      "Requirement already satisfied: numpy in c:\\users\\lenovo\\appdata\\roaming\\python\\python310\\site-packages (from openai-whisper) (1.24.4)\n",
      "Requirement already satisfied: torch in c:\\users\\lenovo\\appdata\\roaming\\python\\python310\\site-packages (from openai-whisper) (2.2.2)\n",
      "Requirement already satisfied: tqdm in c:\\users\\lenovo\\appdata\\roaming\\python\\python310\\site-packages (from openai-whisper) (4.64.1)\n",
      "Requirement already satisfied: more-itertools in c:\\users\\lenovo\\appdata\\roaming\\python\\python310\\site-packages (from openai-whisper) (10.1.0)\n",
      "Collecting tiktoken (from openai-whisper)\n",
      "  Downloading tiktoken-0.6.0-cp310-cp310-win_amd64.whl.metadata (6.8 kB)\n",
      "Collecting llvmlite<0.43,>=0.42.0dev0 (from numba->openai-whisper)\n",
      "  Downloading llvmlite-0.42.0-cp310-cp310-win_amd64.whl.metadata (4.9 kB)\n",
      "Requirement already satisfied: regex>=2022.1.18 in c:\\users\\lenovo\\appdata\\roaming\\python\\python310\\site-packages (from tiktoken->openai-whisper) (2022.9.13)\n",
      "Requirement already satisfied: requests>=2.26.0 in c:\\users\\lenovo\\appdata\\roaming\\python\\python310\\site-packages (from tiktoken->openai-whisper) (2.28.1)\n",
      "Requirement already satisfied: filelock in c:\\users\\lenovo\\appdata\\roaming\\python\\python310\\site-packages (from torch->openai-whisper) (3.12.3)\n",
      "Requirement already satisfied: typing-extensions>=4.8.0 in c:\\users\\lenovo\\appdata\\roaming\\python\\python310\\site-packages (from torch->openai-whisper) (4.11.0)\n",
      "Requirement already satisfied: sympy in c:\\users\\lenovo\\appdata\\roaming\\python\\python310\\site-packages (from torch->openai-whisper) (1.12)\n",
      "Requirement already satisfied: networkx in c:\\users\\lenovo\\appdata\\roaming\\python\\python310\\site-packages (from torch->openai-whisper) (2.8.7)\n",
      "Requirement already satisfied: jinja2 in c:\\users\\lenovo\\appdata\\roaming\\python\\python310\\site-packages (from torch->openai-whisper) (3.1.2)\n",
      "Requirement already satisfied: fsspec in c:\\users\\lenovo\\appdata\\roaming\\python\\python310\\site-packages (from torch->openai-whisper) (2022.8.2)\n",
      "Requirement already satisfied: colorama in c:\\users\\lenovo\\appdata\\roaming\\python\\python310\\site-packages (from tqdm->openai-whisper) (0.4.6)\n",
      "Requirement already satisfied: charset-normalizer<3,>=2 in c:\\users\\lenovo\\appdata\\roaming\\python\\python310\\site-packages (from requests>=2.26.0->tiktoken->openai-whisper) (2.1.1)\n",
      "Requirement already satisfied: idna<4,>=2.5 in c:\\users\\lenovo\\appdata\\roaming\\python\\python310\\site-packages (from requests>=2.26.0->tiktoken->openai-whisper) (3.4)\n",
      "Requirement already satisfied: urllib3<1.27,>=1.21.1 in c:\\users\\lenovo\\appdata\\roaming\\python\\python310\\site-packages (from requests>=2.26.0->tiktoken->openai-whisper) (1.26.12)\n",
      "Requirement already satisfied: certifi>=2017.4.17 in c:\\users\\lenovo\\appdata\\roaming\\python\\python310\\site-packages (from requests>=2.26.0->tiktoken->openai-whisper) (2022.9.14)\n",
      "Requirement already satisfied: MarkupSafe>=2.0 in c:\\users\\lenovo\\appdata\\roaming\\python\\python310\\site-packages (from jinja2->torch->openai-whisper) (2.1.1)\n",
      "Requirement already satisfied: mpmath>=0.19 in c:\\users\\lenovo\\appdata\\roaming\\python\\python310\\site-packages (from sympy->torch->openai-whisper) (1.3.0)\n",
      "Downloading numba-0.59.1-cp310-cp310-win_amd64.whl (2.7 MB)\n",
      "   ---------------------------------------- 2.7/2.7 MB 1.5 MB/s eta 0:00:00\n",
      "Downloading tiktoken-0.6.0-cp310-cp310-win_amd64.whl (798 kB)\n",
      "   ---------------------------------------- 798.7/798.7 kB 3.2 MB/s eta 0:00:00\n",
      "Downloading llvmlite-0.42.0-cp310-cp310-win_amd64.whl (28.1 MB)\n",
      "   ---------------------------------------- 28.1/28.1 MB 3.2 MB/s eta 0:00:00\n",
      "Building wheels for collected packages: openai-whisper\n",
      "  Building wheel for openai-whisper (pyproject.toml): started\n",
      "  Building wheel for openai-whisper (pyproject.toml): finished with status 'done'\n",
      "  Created wheel for openai-whisper: filename=openai_whisper-20231117-py3-none-any.whl size=801375 sha256=f88a0d7a4c5c02b0d3a941871e18ed1d9b99f101a9bf4de7ce75b113e2e92e1a\n",
      "  Stored in directory: c:\\users\\lenovo\\appdata\\local\\pip\\cache\\wheels\\d0\\85\\e1\\9361b4cbea7dd4b7f6702fa4c3afc94877952eeb2b62f45f56\n",
      "Successfully built openai-whisper\n",
      "Installing collected packages: llvmlite, tiktoken, numba, openai-whisper\n",
      "Successfully installed llvmlite-0.42.0 numba-0.59.1 openai-whisper-20231117 tiktoken-0.6.0\n",
      "Note: you may need to restart the kernel to use updated packages.\n"
     ]
    }
   ],
   "source": [
    "pip install openai-whisper"
   ]
  },
  {
   "cell_type": "code",
   "execution_count": null,
   "metadata": {},
   "outputs": [],
   "source": [
    "import os\n",
    "import torchaudio\n",
    "import jiwer\n",
    "\n",
    "def transcribe_audio_folder(audio_folder, model, output_file):\n",
    "    with open(output_file, 'w', encoding='utf-8') as f_out:\n",
    "        for audio_file in os.listdir(audio_folder):\n",
    "            if audio_file.endswith('.mp3'):  # Assuming audio files are in WAV format\n",
    "                audio_path = os.path.join(audio_folder, audio_file)\n",
    "                \n",
    "                # Load audio file\n",
    "                waveform, sample_rate = torchaudio.load(audio_path)\n",
    "                \n",
    "                # Transcribe audio\n",
    "                predicted_transcript = model.transcribe(waveform)\n",
    "                \n",
    "                # Write transcript to output file\n",
    "                f_out.write(f\"{audio_file} | {predicted_transcript}\\n\")\n",
    "\n",
    "# Example usage\n",
    "# Assume you have a pre-trained ASR model named \"model\" and an audio folder named \"audio_folder\"\n",
    "model = YourASRModel()\n",
    "audio_folder = 'E:\\IIT Bombay ML Intern ASR model\\GV_Eval_3h\\Audio'\n",
    "output_file = 'transcriptions.txt'\n",
    "\n",
    "transcribe_audio_folder(audio_folder, model, output_file)\n",
    "print(\"Transcriptions saved to\", output_file)\n"
   ]
  }
 ],
 "metadata": {
  "kernelspec": {
   "display_name": "Python 3",
   "language": "python",
   "name": "python3"
  },
  "language_info": {
   "codemirror_mode": {
    "name": "ipython",
    "version": 3
   },
   "file_extension": ".py",
   "mimetype": "text/x-python",
   "name": "python",
   "nbconvert_exporter": "python",
   "pygments_lexer": "ipython3",
   "version": "3.10.6"
  }
 },
 "nbformat": 4,
 "nbformat_minor": 2
}
